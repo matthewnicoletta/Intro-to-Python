{
 "cells": [
  {
   "cell_type": "markdown",
   "id": "4a4f4179",
   "metadata": {},
   "source": [
    "# Introduction to Python\n",
    "## Exercise 2: Data Types\n",
    "### Developed by Matthew Nicoletta for Georgetown Hoyalytics Club\n",
    "---"
   ]
  },
  {
   "cell_type": "markdown",
   "id": "7381d798",
   "metadata": {},
   "source": [
    "When learning a new programming language, it is a long and storied tradition to start with a simple program that prints the phrase \"Hello, World!\" So let's do that. Click on the cell below and press SHIFT + Enter."
   ]
  },
  {
   "cell_type": "markdown",
   "id": "c1844603",
   "metadata": {},
   "source": [
    "## Strings"
   ]
  },
  {
   "cell_type": "code",
   "execution_count": 1,
   "id": "6822a4b0",
   "metadata": {},
   "outputs": [],
   "source": [
    "# Create a few string variables\n",
    "my_string = \"This is a string.\"\n",
    "num_string = \"42\""
   ]
  },
  {
   "cell_type": "code",
   "execution_count": 2,
   "id": "9fd75b2d",
   "metadata": {},
   "outputs": [
    {
     "name": "stdout",
     "output_type": "stream",
     "text": [
      "Hoyalytics is awesome.\n"
     ]
    }
   ],
   "source": [
    "# Note that we can change the value of a variable using the assignment operator (equal sign) \n",
    "my_string = \"Hoyalytics is awesome.\"\n",
    "print(my_string)"
   ]
  },
  {
   "cell_type": "code",
   "execution_count": 3,
   "id": "845f6351",
   "metadata": {},
   "outputs": [
    {
     "data": {
      "text/plain": [
       "True"
      ]
     },
     "execution_count": 3,
     "metadata": {},
     "output_type": "execute_result"
    }
   ],
   "source": [
    "# Use the double equal sign == to test whether two values are equal\n",
    "num_string == \"42\""
   ]
  },
  {
   "cell_type": "code",
   "execution_count": 4,
   "id": "e36f1c6b",
   "metadata": {},
   "outputs": [
    {
     "data": {
      "text/plain": [
       "False"
      ]
     },
     "execution_count": 4,
     "metadata": {},
     "output_type": "execute_result"
    }
   ],
   "source": [
    "# Strings are NOT numeric values\n",
    "num_string == 42"
   ]
  },
  {
   "cell_type": "code",
   "execution_count": 5,
   "id": "7506b096",
   "metadata": {},
   "outputs": [
    {
     "name": "stdout",
     "output_type": "stream",
     "text": [
      "Hoyalytics is awesome.42\n"
     ]
    }
   ],
   "source": [
    "# Combine (concatenate) strings using the plus sign\n",
    "print(my_string + num_string)"
   ]
  },
  {
   "cell_type": "code",
   "execution_count": 6,
   "id": "0e38c493",
   "metadata": {},
   "outputs": [
    {
     "ename": "TypeError",
     "evalue": "can only concatenate str (not \"int\") to str",
     "output_type": "error",
     "traceback": [
      "\u001b[0;31m---------------------------------------------------------------------------\u001b[0m",
      "\u001b[0;31mTypeError\u001b[0m                                 Traceback (most recent call last)",
      "Input \u001b[0;32mIn [6]\u001b[0m, in \u001b[0;36m<cell line: 2>\u001b[0;34m()\u001b[0m\n\u001b[1;32m      1\u001b[0m \u001b[38;5;66;03m# But you can't combine strings with numbers (this will produce an error)\u001b[39;00m\n\u001b[0;32m----> 2\u001b[0m \u001b[38;5;28mprint\u001b[39m(\u001b[43mmy_string\u001b[49m\u001b[43m \u001b[49m\u001b[38;5;241;43m+\u001b[39;49m\u001b[43m \u001b[49m\u001b[38;5;241;43m42\u001b[39;49m)\n",
      "\u001b[0;31mTypeError\u001b[0m: can only concatenate str (not \"int\") to str"
     ]
    }
   ],
   "source": [
    "# But you can't combine strings with numbers (this will produce an error)\n",
    "print(my_string + 42)"
   ]
  },
  {
   "cell_type": "markdown",
   "id": "67bd1121",
   "metadata": {},
   "source": [
    "## Numerics"
   ]
  },
  {
   "cell_type": "code",
   "execution_count": 7,
   "id": "e1050ded",
   "metadata": {},
   "outputs": [],
   "source": [
    "# This is a float\n",
    "pi = 3.14"
   ]
  },
  {
   "cell_type": "code",
   "execution_count": 8,
   "id": "ce0cea26",
   "metadata": {},
   "outputs": [
    {
     "data": {
      "text/plain": [
       "float"
      ]
     },
     "execution_count": 8,
     "metadata": {},
     "output_type": "execute_result"
    }
   ],
   "source": [
    "type(pi)"
   ]
  },
  {
   "cell_type": "code",
   "execution_count": 9,
   "id": "cfca1f09",
   "metadata": {},
   "outputs": [
    {
     "data": {
      "text/plain": [
       "int"
      ]
     },
     "execution_count": 9,
     "metadata": {},
     "output_type": "execute_result"
    }
   ],
   "source": [
    "# But this is an int\n",
    "pi_approx = 3\n",
    "\n",
    "type(pi_approx)"
   ]
  },
  {
   "cell_type": "code",
   "execution_count": 10,
   "id": "d14cf86b",
   "metadata": {},
   "outputs": [
    {
     "data": {
      "text/plain": [
       "float"
      ]
     },
     "execution_count": 10,
     "metadata": {},
     "output_type": "execute_result"
    }
   ],
   "source": [
    "# What happens if we assign a decimal value to a variable of type int?\n",
    "pi_approx = 3.1415926\n",
    "type(pi_approx)"
   ]
  },
  {
   "cell_type": "markdown",
   "id": "b81cef01",
   "metadata": {},
   "source": [
    "### IMPORTANT NOTE\n",
    "Python is a dynamically 'typed' language. This means that unlike some languages, variable types do not have to be declared when the variable is created and those types can change when different values are assigned. This makes Python very flexible, but it can get you in trouble if you aren't careful. Python only allows certain operations to be performed on specific data types."
   ]
  },
  {
   "cell_type": "markdown",
   "id": "97857cc6",
   "metadata": {},
   "source": [
    "## Booleans"
   ]
  },
  {
   "cell_type": "code",
   "execution_count": 11,
   "id": "bd1b1aa9",
   "metadata": {},
   "outputs": [],
   "source": [
    "# Create a boolean variable\n",
    "is_fun = True"
   ]
  },
  {
   "cell_type": "code",
   "execution_count": 12,
   "id": "452e4b1c",
   "metadata": {},
   "outputs": [
    {
     "data": {
      "text/plain": [
       "bool"
      ]
     },
     "execution_count": 12,
     "metadata": {},
     "output_type": "execute_result"
    }
   ],
   "source": [
    "type(is_fun)"
   ]
  },
  {
   "cell_type": "code",
   "execution_count": 13,
   "id": "de193dac",
   "metadata": {},
   "outputs": [],
   "source": [
    "is_fun = False"
   ]
  },
  {
   "cell_type": "code",
   "execution_count": 14,
   "id": "e8af4f6f",
   "metadata": {},
   "outputs": [
    {
     "data": {
      "text/plain": [
       "False"
      ]
     },
     "execution_count": 14,
     "metadata": {},
     "output_type": "execute_result"
    }
   ],
   "source": [
    "is_fun == True"
   ]
  },
  {
   "cell_type": "markdown",
   "id": "51a3874e",
   "metadata": {},
   "source": [
    "## Lists"
   ]
  },
  {
   "cell_type": "code",
   "execution_count": 15,
   "id": "78200ee7",
   "metadata": {},
   "outputs": [],
   "source": [
    "# Lists are created using square brackets and commas.\n",
    "my_list = [2, 3, 5, 7]"
   ]
  },
  {
   "cell_type": "code",
   "execution_count": 16,
   "id": "77a0bcd7",
   "metadata": {},
   "outputs": [
    {
     "data": {
      "text/plain": [
       "list"
      ]
     },
     "execution_count": 16,
     "metadata": {},
     "output_type": "execute_result"
    }
   ],
   "source": [
    "type(my_list)"
   ]
  },
  {
   "cell_type": "markdown",
   "id": "c140f233",
   "metadata": {},
   "source": [
    "Lists are indexed. Each element in the list can be referenced by its position. Python indexing starts at 0. "
   ]
  },
  {
   "cell_type": "code",
   "execution_count": 17,
   "id": "7206841d",
   "metadata": {},
   "outputs": [
    {
     "data": {
      "text/plain": [
       "2"
      ]
     },
     "execution_count": 17,
     "metadata": {},
     "output_type": "execute_result"
    }
   ],
   "source": [
    "# Show the first item in the list\n",
    "my_list[0]"
   ]
  },
  {
   "cell_type": "code",
   "execution_count": 18,
   "id": "37abf9d6",
   "metadata": {},
   "outputs": [
    {
     "data": {
      "text/plain": [
       "5"
      ]
     },
     "execution_count": 18,
     "metadata": {},
     "output_type": "execute_result"
    }
   ],
   "source": [
    "# Now let's get the third item\n",
    "my_list[2]"
   ]
  },
  {
   "cell_type": "markdown",
   "id": "0a5d6d8d",
   "metadata": {},
   "source": [
    "You can access items in the list by referencing their position relative to the END by using negative index values"
   ]
  },
  {
   "cell_type": "code",
   "execution_count": 19,
   "id": "1c4b3dd5",
   "metadata": {},
   "outputs": [
    {
     "data": {
      "text/plain": [
       "7"
      ]
     },
     "execution_count": 19,
     "metadata": {},
     "output_type": "execute_result"
    }
   ],
   "source": [
    "# Let's get the last item in the list\n",
    "my_list[-1]"
   ]
  },
  {
   "cell_type": "markdown",
   "id": "043c2ae1",
   "metadata": {},
   "source": [
    "Lists can contain items of different types."
   ]
  },
  {
   "cell_type": "code",
   "execution_count": 20,
   "id": "8abae7db",
   "metadata": {},
   "outputs": [],
   "source": [
    "# Create a list with different data types\n",
    "random_list = [1, 3.14, \"cat\", my_list]"
   ]
  },
  {
   "cell_type": "code",
   "execution_count": 21,
   "id": "551c9892",
   "metadata": {},
   "outputs": [
    {
     "data": {
      "text/plain": [
       "'cat'"
      ]
     },
     "execution_count": 21,
     "metadata": {},
     "output_type": "execute_result"
    }
   ],
   "source": [
    "random_list[2]"
   ]
  },
  {
   "cell_type": "code",
   "execution_count": 22,
   "id": "d9b62b54",
   "metadata": {},
   "outputs": [
    {
     "data": {
      "text/plain": [
       "[2, 3, 5, 7]"
      ]
     },
     "execution_count": 22,
     "metadata": {},
     "output_type": "execute_result"
    }
   ],
   "source": [
    "# Lists can even contain other lists\n",
    "random_list[3]"
   ]
  },
  {
   "cell_type": "code",
   "execution_count": 23,
   "id": "65dd0dfe",
   "metadata": {},
   "outputs": [
    {
     "data": {
      "text/plain": [
       "2"
      ]
     },
     "execution_count": 23,
     "metadata": {},
     "output_type": "execute_result"
    }
   ],
   "source": [
    "# You can reference an element of a list inside a list by using two index references. Here, we are accessing the \n",
    "# third element of random_list, which is also a list (my_list). By adding a second index of 0, we are asking for\n",
    "# the first element in THAT list.\n",
    "random_list[3][0]"
   ]
  },
  {
   "cell_type": "code",
   "execution_count": 24,
   "id": "b1e9e405",
   "metadata": {},
   "outputs": [],
   "source": [
    "# Lists can be sorted using the .sort() method. Here we are going to reverse sort the list.\n",
    "my_list.sort(reverse = True)"
   ]
  },
  {
   "cell_type": "code",
   "execution_count": 25,
   "id": "cbd539e2",
   "metadata": {},
   "outputs": [
    {
     "data": {
      "text/plain": [
       "[7, 5, 3, 2]"
      ]
     },
     "execution_count": 25,
     "metadata": {},
     "output_type": "execute_result"
    }
   ],
   "source": [
    "my_list"
   ]
  },
  {
   "cell_type": "code",
   "execution_count": 26,
   "id": "a68316e4",
   "metadata": {},
   "outputs": [
    {
     "data": {
      "text/plain": [
       "[2, 3, 5, 7]"
      ]
     },
     "execution_count": 26,
     "metadata": {},
     "output_type": "execute_result"
    }
   ],
   "source": [
    "# Now let's sort it back. We can just use the .sort() method using the default sort order\n",
    "my_list.sort()\n",
    "my_list"
   ]
  },
  {
   "cell_type": "code",
   "execution_count": 27,
   "id": "8e967e6e",
   "metadata": {},
   "outputs": [
    {
     "data": {
      "text/plain": [
       "['apple', 'baseball', 'cat', 'donut']"
      ]
     },
     "execution_count": 27,
     "metadata": {},
     "output_type": "execute_result"
    }
   ],
   "source": [
    "# This works for lists of strings too\n",
    "string_list = [\"cat\", \"apple\", \"baseball\", \"donut\"]\n",
    "string_list.sort()\n",
    "string_list"
   ]
  },
  {
   "cell_type": "code",
   "execution_count": 28,
   "id": "b1943994",
   "metadata": {},
   "outputs": [
    {
     "ename": "TypeError",
     "evalue": "'<' not supported between instances of 'str' and 'float'",
     "output_type": "error",
     "traceback": [
      "\u001b[0;31m---------------------------------------------------------------------------\u001b[0m",
      "\u001b[0;31mTypeError\u001b[0m                                 Traceback (most recent call last)",
      "Input \u001b[0;32mIn [28]\u001b[0m, in \u001b[0;36m<cell line: 2>\u001b[0;34m()\u001b[0m\n\u001b[1;32m      1\u001b[0m \u001b[38;5;66;03m# But we can't sort lists that have different data types (this code will produce an error)\u001b[39;00m\n\u001b[0;32m----> 2\u001b[0m \u001b[43mrandom_list\u001b[49m\u001b[38;5;241;43m.\u001b[39;49m\u001b[43msort\u001b[49m\u001b[43m(\u001b[49m\u001b[43m)\u001b[49m\n",
      "\u001b[0;31mTypeError\u001b[0m: '<' not supported between instances of 'str' and 'float'"
     ]
    }
   ],
   "source": [
    "# But we can't sort lists that have different data types (this code will produce an error)\n",
    "random_list.sort()"
   ]
  },
  {
   "cell_type": "markdown",
   "id": "8ac6260b",
   "metadata": {},
   "source": [
    "## Sets"
   ]
  },
  {
   "cell_type": "code",
   "execution_count": 29,
   "id": "a3cb4e3d",
   "metadata": {},
   "outputs": [
    {
     "data": {
      "text/plain": [
       "{2, 3, 5, 7}"
      ]
     },
     "execution_count": 29,
     "metadata": {},
     "output_type": "execute_result"
    }
   ],
   "source": [
    "# Sets are collections of unique values. We create sets by using curly braces and commas\n",
    "my_set = {2, 3, 5, 7}\n",
    "my_set"
   ]
  },
  {
   "cell_type": "code",
   "execution_count": 30,
   "id": "c85d4598",
   "metadata": {},
   "outputs": [
    {
     "ename": "TypeError",
     "evalue": "'set' object is not subscriptable",
     "output_type": "error",
     "traceback": [
      "\u001b[0;31m---------------------------------------------------------------------------\u001b[0m",
      "\u001b[0;31mTypeError\u001b[0m                                 Traceback (most recent call last)",
      "Input \u001b[0;32mIn [30]\u001b[0m, in \u001b[0;36m<cell line: 2>\u001b[0;34m()\u001b[0m\n\u001b[1;32m      1\u001b[0m \u001b[38;5;66;03m# Sets do not have an order, so you can't get an element via an index (this code will produce an error)\u001b[39;00m\n\u001b[0;32m----> 2\u001b[0m \u001b[43mmy_set\u001b[49m\u001b[43m[\u001b[49m\u001b[38;5;241;43m0\u001b[39;49m\u001b[43m]\u001b[49m\n",
      "\u001b[0;31mTypeError\u001b[0m: 'set' object is not subscriptable"
     ]
    }
   ],
   "source": [
    "# Sets do not have an order, so you can't get an element via an index (this code will produce an error)\n",
    "my_set[0]"
   ]
  },
  {
   "cell_type": "code",
   "execution_count": 31,
   "id": "6bdf04c8",
   "metadata": {},
   "outputs": [
    {
     "ename": "AttributeError",
     "evalue": "'set' object has no attribute 'sort'",
     "output_type": "error",
     "traceback": [
      "\u001b[0;31m---------------------------------------------------------------------------\u001b[0m",
      "\u001b[0;31mAttributeError\u001b[0m                            Traceback (most recent call last)",
      "Input \u001b[0;32mIn [31]\u001b[0m, in \u001b[0;36m<cell line: 2>\u001b[0;34m()\u001b[0m\n\u001b[1;32m      1\u001b[0m \u001b[38;5;66;03m# Sets don't have any order, so you can't sort them. (this code will produce an error) \u001b[39;00m\n\u001b[0;32m----> 2\u001b[0m \u001b[43mmy_set\u001b[49m\u001b[38;5;241;43m.\u001b[39;49m\u001b[43msort\u001b[49m(reverse \u001b[38;5;241m=\u001b[39m \u001b[38;5;28;01mTrue\u001b[39;00m)\n",
      "\u001b[0;31mAttributeError\u001b[0m: 'set' object has no attribute 'sort'"
     ]
    }
   ],
   "source": [
    "# Sets don't have any order, so you can't sort them. (this code will produce an error) \n",
    "my_set.sort(reverse = True)"
   ]
  },
  {
   "cell_type": "code",
   "execution_count": 32,
   "id": "db4d0138",
   "metadata": {},
   "outputs": [
    {
     "data": {
      "text/plain": [
       "{2, 3, 5, 7}"
      ]
     },
     "execution_count": 32,
     "metadata": {},
     "output_type": "execute_result"
    }
   ],
   "source": [
    "# Sets cannot have duplicate values\n",
    "my_set = {2, 2, 3, 5, 7, 7, 7, 7}\n",
    "my_set"
   ]
  },
  {
   "cell_type": "code",
   "execution_count": 33,
   "id": "1bb10853",
   "metadata": {},
   "outputs": [
    {
     "data": {
      "text/plain": [
       "True"
      ]
     },
     "execution_count": 33,
     "metadata": {},
     "output_type": "execute_result"
    }
   ],
   "source": [
    "# We can check whether a value is in a set usin the in operator\n",
    "2 in my_set"
   ]
  },
  {
   "cell_type": "code",
   "execution_count": 34,
   "id": "e7be870e",
   "metadata": {},
   "outputs": [
    {
     "data": {
      "text/plain": [
       "False"
      ]
     },
     "execution_count": 34,
     "metadata": {},
     "output_type": "execute_result"
    }
   ],
   "source": [
    "# And even though they look similar, they are not the same as lists.\n",
    "my_set == my_list"
   ]
  },
  {
   "cell_type": "markdown",
   "id": "b1b91910",
   "metadata": {},
   "source": [
    "## Tuples"
   ]
  },
  {
   "cell_type": "markdown",
   "id": "af225dde",
   "metadata": {},
   "source": [
    "Tuples are like simplified lists. Let's create one and then we'll explore the differences. Tuples are created using parenthesis and commas."
   ]
  },
  {
   "cell_type": "code",
   "execution_count": 35,
   "id": "94b33415",
   "metadata": {},
   "outputs": [
    {
     "data": {
      "text/plain": [
       "(2, 3, 5, 7)"
      ]
     },
     "execution_count": 35,
     "metadata": {},
     "output_type": "execute_result"
    }
   ],
   "source": [
    "my_tuple = (2, 3, 5, 7)\n",
    "my_tuple"
   ]
  },
  {
   "cell_type": "code",
   "execution_count": 36,
   "id": "e6d02f26",
   "metadata": {},
   "outputs": [
    {
     "data": {
      "text/plain": [
       "2"
      ]
     },
     "execution_count": 36,
     "metadata": {},
     "output_type": "execute_result"
    }
   ],
   "source": [
    "# Like lists, tuples are indexed.\n",
    "my_tuple[0]"
   ]
  },
  {
   "cell_type": "markdown",
   "id": "4ab63730",
   "metadata": {},
   "source": [
    "The main difference between tuples and lists is whether they can be modified. We use the term 'mutable' to denote whether we can make changes to the elements within a collection. Lists are mutable, tuples are not."
   ]
  },
  {
   "cell_type": "code",
   "execution_count": 37,
   "id": "492a807b",
   "metadata": {},
   "outputs": [
    {
     "data": {
      "text/plain": [
       "[2, 3, 5, 7, 11]"
      ]
     },
     "execution_count": 37,
     "metadata": {},
     "output_type": "execute_result"
    }
   ],
   "source": [
    "# Let's use the .append() method to add an element to the end of the list\n",
    "my_list.append(11)\n",
    "\n",
    "my_list"
   ]
  },
  {
   "cell_type": "code",
   "execution_count": 38,
   "id": "766f7a96",
   "metadata": {},
   "outputs": [
    {
     "ename": "AttributeError",
     "evalue": "'tuple' object has no attribute 'append'",
     "output_type": "error",
     "traceback": [
      "\u001b[0;31m---------------------------------------------------------------------------\u001b[0m",
      "\u001b[0;31mAttributeError\u001b[0m                            Traceback (most recent call last)",
      "Input \u001b[0;32mIn [38]\u001b[0m, in \u001b[0;36m<cell line: 2>\u001b[0;34m()\u001b[0m\n\u001b[1;32m      1\u001b[0m \u001b[38;5;66;03m# Let's see what happens when we try to do this with our tuple (hint: this will produce an error)\u001b[39;00m\n\u001b[0;32m----> 2\u001b[0m \u001b[43mmy_tuple\u001b[49m\u001b[38;5;241;43m.\u001b[39;49m\u001b[43mappend\u001b[49m(\u001b[38;5;241m11\u001b[39m)\n",
      "\u001b[0;31mAttributeError\u001b[0m: 'tuple' object has no attribute 'append'"
     ]
    }
   ],
   "source": [
    "# Let's see what happens when we try to do this with our tuple (hint: this will produce an error)\n",
    "my_tuple.append(11)"
   ]
  },
  {
   "cell_type": "markdown",
   "id": "c8ae2798",
   "metadata": {},
   "source": [
    "Why would you ever want to use a tuple when you can use a list? Tuples are more memory efficient and looking up values in a tuple can be slightly more efficient (ie, faster) than looking up values in a list. Use a tuple if you hvae a list of elements that you know will not change. Otherwise, use a list."
   ]
  },
  {
   "cell_type": "code",
   "execution_count": 39,
   "id": "54989cf5",
   "metadata": {},
   "outputs": [
    {
     "data": {
      "text/plain": [
       "[2, 3, 5, 7]"
      ]
     },
     "execution_count": 39,
     "metadata": {},
     "output_type": "execute_result"
    }
   ],
   "source": [
    "# You can convert a tuple to a list using the .list method\n",
    "new_list = list(my_tuple)\n",
    "new_list"
   ]
  },
  {
   "cell_type": "code",
   "execution_count": 40,
   "id": "bc38b44b",
   "metadata": {},
   "outputs": [
    {
     "data": {
      "text/plain": [
       "list"
      ]
     },
     "execution_count": 40,
     "metadata": {},
     "output_type": "execute_result"
    }
   ],
   "source": [
    "type(new_list)"
   ]
  },
  {
   "cell_type": "markdown",
   "id": "2592df40",
   "metadata": {},
   "source": [
    "### Other List Operations\n",
    "Here is a quick demo of some other things you can do with lists, since they are mutable. This is not exhaustive, just some examples of adding, changing, and removing elements."
   ]
  },
  {
   "cell_type": "code",
   "execution_count": 41,
   "id": "f222eedd",
   "metadata": {},
   "outputs": [
    {
     "data": {
      "text/plain": [
       "[100, 3, 5, 7, 11]"
      ]
     },
     "execution_count": 41,
     "metadata": {},
     "output_type": "execute_result"
    }
   ],
   "source": [
    "# change a list element using the assignment operator. \n",
    "\n",
    "# Change the first element (2) to a new value (100)\n",
    "my_list[0] = 100\n",
    "my_list"
   ]
  },
  {
   "cell_type": "code",
   "execution_count": 43,
   "id": "37381be1",
   "metadata": {},
   "outputs": [
    {
     "data": {
      "text/plain": [
       "[100, 3, 5, 7]"
      ]
     },
     "execution_count": 43,
     "metadata": {},
     "output_type": "execute_result"
    }
   ],
   "source": [
    "# We can remove the last element in the list using the .pop() method\n",
    "element = my_list.pop()\n",
    "my_list"
   ]
  },
  {
   "cell_type": "code",
   "execution_count": 45,
   "id": "27e6274c",
   "metadata": {},
   "outputs": [
    {
     "data": {
      "text/plain": [
       "11"
      ]
     },
     "execution_count": 45,
     "metadata": {},
     "output_type": "execute_result"
    }
   ],
   "source": [
    "# We assigned the popped element to the variable element (but this wasn't necessary to remove it)\n",
    "element"
   ]
  },
  {
   "cell_type": "code",
   "execution_count": 46,
   "id": "ba40f17c",
   "metadata": {},
   "outputs": [
    {
     "data": {
      "text/plain": [
       "[500, 100, 3, 5, 7]"
      ]
     },
     "execution_count": 46,
     "metadata": {},
     "output_type": "execute_result"
    }
   ],
   "source": [
    "# We can also insert values at any position in the list using the .insert() method\n",
    "\n",
    "# insert the value 500 at position 0\n",
    "my_list.insert(0, 500)\n",
    "my_list"
   ]
  },
  {
   "cell_type": "markdown",
   "id": "49172291",
   "metadata": {},
   "source": [
    "## Dictionaries\n",
    "Dictionaries use key/value pairs to store information. You can then look up a value using the key. Keys should be unique, but values can be repeated."
   ]
  },
  {
   "cell_type": "code",
   "execution_count": 47,
   "id": "46a14875",
   "metadata": {},
   "outputs": [],
   "source": [
    "# Create a dictionary by using curly braces and commas, just like a set; however, each element has two parts\n",
    "# the key and the value, separated by a colon\n",
    "\n",
    "my_dict = {\n",
    "    \"firstname\": \"Arthur\",\n",
    "    \"lastname\": \"Dent\",\n",
    "    \"location\": \"Earth\"\n",
    "}"
   ]
  },
  {
   "cell_type": "code",
   "execution_count": 48,
   "id": "589868e2",
   "metadata": {},
   "outputs": [
    {
     "data": {
      "text/plain": [
       "'Arthur'"
      ]
     },
     "execution_count": 48,
     "metadata": {},
     "output_type": "execute_result"
    }
   ],
   "source": [
    "my_dict[\"firstname\"]"
   ]
  },
  {
   "cell_type": "markdown",
   "id": "79fb1046",
   "metadata": {},
   "source": [
    "## DateTimes\n",
    "Python actually has a number of date and type types and there are some complexities to working with them. For now, let's just look at how the basic datetime type works. Note that there is not a native datetime data type, so we have to import a package. We'll talk more about packages later."
   ]
  },
  {
   "cell_type": "code",
   "execution_count": 53,
   "id": "142ba8cc",
   "metadata": {},
   "outputs": [],
   "source": [
    "# Load the datetime package\n",
    "import datetime\n",
    "\n",
    "# create a new date for May 21, 2021\n",
    "my_date = datetime.datetime(2021, 5, 21)"
   ]
  },
  {
   "cell_type": "code",
   "execution_count": 52,
   "id": "2e33e886",
   "metadata": {},
   "outputs": [
    {
     "name": "stdout",
     "output_type": "stream",
     "text": [
      "2021-05-21 00:00:00\n"
     ]
    }
   ],
   "source": [
    "print(my_date)"
   ]
  }
 ],
 "metadata": {
  "kernelspec": {
   "display_name": "Python 3 (ipykernel)",
   "language": "python",
   "name": "python3"
  },
  "language_info": {
   "codemirror_mode": {
    "name": "ipython",
    "version": 3
   },
   "file_extension": ".py",
   "mimetype": "text/x-python",
   "name": "python",
   "nbconvert_exporter": "python",
   "pygments_lexer": "ipython3",
   "version": "3.8.8"
  }
 },
 "nbformat": 4,
 "nbformat_minor": 5
}
