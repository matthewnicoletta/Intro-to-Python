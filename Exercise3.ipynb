{
 "cells": [
  {
   "cell_type": "markdown",
   "id": "20020a1c",
   "metadata": {},
   "source": [
    "# Introduction to Python\n",
    "## Exercise 3: Control Structures\n",
    "### Developed by Matthew Nicoletta for Georgetown Hoyalytics Club\n",
    "---"
   ]
  },
  {
   "cell_type": "markdown",
   "id": "3914fd91",
   "metadata": {},
   "source": [
    "Python code is generally executed line-by-line in a SEQUENTIAL fashion. While this is logical and easy to follow, there are times when we might want to execute different code depending on various conditions--the value of a piece of data, for example. We may also want to perform the same action multiple times--perhaps thousands of times--and it wouldn't make sense to have a line of code for each time we want to do that. Let's examine some basic programming control structures that help us organize and execute our code with these things in mind."
   ]
  },
  {
   "cell_type": "markdown",
   "id": "e892877f",
   "metadata": {},
   "source": [
    "## IF, ELSE, ELIF\n",
    "The most basic selection (decision) structure in most programming languages is the If statement. Let's see how that works."
   ]
  },
  {
   "cell_type": "code",
   "execution_count": 2,
   "id": "9178992a",
   "metadata": {},
   "outputs": [
    {
     "name": "stdout",
     "output_type": "stream",
     "text": [
      "X is less than 50\n"
     ]
    }
   ],
   "source": [
    "# Create a variable\n",
    "x = 42\n",
    "\n",
    "# Make a decision based on the value of x using an if statement\n",
    "if x < 50:\n",
    "    print(\"X is less than 50\")"
   ]
  },
  {
   "cell_type": "markdown",
   "id": "0100557e",
   "metadata": {},
   "source": [
    "### Important Note\n",
    "For control structures, user-defined functions, and other cases where a block of code is executed, Python uses indentation to denote the code block. Other languages may use parentheses () or curly braces {}. Python will give you an error if it expects code to be indented and it is not (or if it does NOT expect indentations and finds it)."
   ]
  },
  {
   "cell_type": "code",
   "execution_count": 3,
   "id": "71e6b4ea",
   "metadata": {},
   "outputs": [],
   "source": [
    "# Here we see that an if statement where the condition is not met does not execute the code block.\n",
    "if x == 50:\n",
    "    print(\"X is equal to 50\")"
   ]
  },
  {
   "cell_type": "code",
   "execution_count": 4,
   "id": "273c8ca7",
   "metadata": {},
   "outputs": [
    {
     "name": "stdout",
     "output_type": "stream",
     "text": [
      "X is less than (or equal to) 50\n"
     ]
    }
   ],
   "source": [
    "# What if we want to execute one set of code if X is greater than 50 and a separate set of code if X is less\n",
    "# than 50? We can use an if / else structure. \n",
    "\n",
    "if x > 50:\n",
    "    print(\"X is greater than 50\")\n",
    "else:\n",
    "    print(\"X is less than (or equal to) 50\")"
   ]
  },
  {
   "cell_type": "code",
   "execution_count": 5,
   "id": "28102242",
   "metadata": {},
   "outputs": [
    {
     "name": "stdout",
     "output_type": "stream",
     "text": [
      "X is exactly 50\n"
     ]
    }
   ],
   "source": [
    "# Maybe we want to execute different code if X is exactly 50. We can use elif, which is short for else if. In this\n",
    "# case, we first check the if. When that contition is not met, we then do a second if (the elif). When that \n",
    "# Condition is also not met, we move on to the else. The else here is a catch-all.\n",
    "\n",
    "# Set x = to 50 for our new code\n",
    "x = 50\n",
    "\n",
    "if x < 50:\n",
    "    print(\"X is less than than 50\")\n",
    "elif x > 50:\n",
    "    print(\"X is greater than 50\")\n",
    "else:\n",
    "    print(\"X is exactly 50\")"
   ]
  },
  {
   "cell_type": "markdown",
   "id": "75aef802",
   "metadata": {},
   "source": [
    "Something to watch out for with this control structure. The else here doesn't care what the value of X is. We used it as a catch-all for any value of x that does not meet the previous conditions in the if and the elif, and we are assuming that since x is not less than 50 and it is not greater than 50, it must be 50. What if x isn't a number, though?"
   ]
  },
  {
   "cell_type": "code",
   "execution_count": 6,
   "id": "f03d949b",
   "metadata": {},
   "outputs": [
    {
     "ename": "TypeError",
     "evalue": "'<' not supported between instances of 'str' and 'int'",
     "output_type": "error",
     "traceback": [
      "\u001b[0;31m---------------------------------------------------------------------------\u001b[0m",
      "\u001b[0;31mTypeError\u001b[0m                                 Traceback (most recent call last)",
      "Input \u001b[0;32mIn [6]\u001b[0m, in \u001b[0;36m<cell line: 4>\u001b[0;34m()\u001b[0m\n\u001b[1;32m      1\u001b[0m \u001b[38;5;66;03m# Set x = to a string\u001b[39;00m\n\u001b[1;32m      2\u001b[0m x \u001b[38;5;241m=\u001b[39m \u001b[38;5;124m\"\u001b[39m\u001b[38;5;124mtest\u001b[39m\u001b[38;5;124m\"\u001b[39m\n\u001b[0;32m----> 4\u001b[0m \u001b[38;5;28;01mif\u001b[39;00m \u001b[43mx\u001b[49m\u001b[43m \u001b[49m\u001b[38;5;241;43m<\u001b[39;49m\u001b[43m \u001b[49m\u001b[38;5;241;43m50\u001b[39;49m:\n\u001b[1;32m      5\u001b[0m     \u001b[38;5;28mprint\u001b[39m(\u001b[38;5;124m\"\u001b[39m\u001b[38;5;124mX is less than than 50\u001b[39m\u001b[38;5;124m\"\u001b[39m)\n\u001b[1;32m      6\u001b[0m \u001b[38;5;28;01melif\u001b[39;00m x \u001b[38;5;241m>\u001b[39m \u001b[38;5;241m50\u001b[39m:\n",
      "\u001b[0;31mTypeError\u001b[0m: '<' not supported between instances of 'str' and 'int'"
     ]
    }
   ],
   "source": [
    "# Set x = to a string. This will produce an error.\n",
    "x = \"test\"\n",
    "\n",
    "if x < 50:\n",
    "    print(\"X is less than than 50\")\n",
    "elif x > 50:\n",
    "    print(\"X is greater than 50\")\n",
    "else:\n",
    "    print(\"X is exactly 50\")"
   ]
  },
  {
   "cell_type": "markdown",
   "id": "fed4c601",
   "metadata": {},
   "source": [
    "Just remember that data type matters. We cannot do arithmetic comparisons (greater than/less than) to non-numeric data types. That said, we can use if with strings to test whether a variable has a specifc string value."
   ]
  },
  {
   "cell_type": "code",
   "execution_count": 8,
   "id": "ec8d6d39",
   "metadata": {},
   "outputs": [
    {
     "name": "stdout",
     "output_type": "stream",
     "text": [
      "This string says 'Test'\n"
     ]
    }
   ],
   "source": [
    "# Create a string variable\n",
    "my_string = \"Test\"\n",
    "\n",
    "# Note the double equal sign comparison operator\n",
    "if my_string == \"Test\":\n",
    "    print(\"This string says 'Test'\")\n",
    "else:\n",
    "    print(\"This string does not say 'Test'\")"
   ]
  },
  {
   "cell_type": "code",
   "execution_count": 9,
   "id": "81e0d98d",
   "metadata": {},
   "outputs": [
    {
     "name": "stdout",
     "output_type": "stream",
     "text": [
      "This string does not say 'test'\n"
     ]
    }
   ],
   "source": [
    "# Strings have to be an exact match. Even case matters.\n",
    "if my_string == \"test\":\n",
    "    print(\"This string says 'test'\")\n",
    "else:\n",
    "    print(\"This string does not say 'test'\")"
   ]
  },
  {
   "cell_type": "markdown",
   "id": "d773fe32",
   "metadata": {},
   "source": [
    "## Loops\n",
    "Loops are one way to perform an action multiple times, and are pretty common across programming languages. We'll look at for loops and while loops."
   ]
  },
  {
   "cell_type": "code",
   "execution_count": 14,
   "id": "513e3171",
   "metadata": {},
   "outputs": [],
   "source": [
    "# For loops are used when you know the number of times you want to repeat an action.\n",
    "\n",
    "x = 0\n",
    "\n",
    "for i in range(10):\n",
    "    x = x + 1"
   ]
  },
  {
   "cell_type": "code",
   "execution_count": 15,
   "id": "bc9bd007",
   "metadata": {},
   "outputs": [
    {
     "data": {
      "text/plain": [
       "10"
      ]
     },
     "execution_count": 15,
     "metadata": {},
     "output_type": "execute_result"
    }
   ],
   "source": [
    "x"
   ]
  },
  {
   "cell_type": "code",
   "execution_count": 17,
   "id": "9f8aa8bb",
   "metadata": {},
   "outputs": [
    {
     "name": "stdout",
     "output_type": "stream",
     "text": [
      "0\n",
      "1\n",
      "2\n",
      "3\n",
      "4\n",
      "5\n",
      "Finally finished!\n"
     ]
    }
   ],
   "source": [
    "# We can combine our for loop with an else statement. Remember, Python indexes from 0, so when x gets to 6, it is\n",
    "# out of the specified range (0-5)\n",
    "for x in range(6):\n",
    "    print(x)\n",
    "else:\n",
    "    print(\"Finally finished!\") "
   ]
  },
  {
   "cell_type": "code",
   "execution_count": 18,
   "id": "f74d7be1",
   "metadata": {},
   "outputs": [
    {
     "name": "stdout",
     "output_type": "stream",
     "text": [
      "0\n",
      "1\n",
      "2\n"
     ]
    }
   ],
   "source": [
    "# Break out of a loop with the break keyword. Here we will stop the loop when x gets to 3, and trigger the else.\n",
    "\n",
    "for x in range(6):\n",
    "    if x == 3: break\n",
    "    print(x)\n",
    "else:\n",
    "    print(\"Finally finished!\") "
   ]
  },
  {
   "cell_type": "code",
   "execution_count": 19,
   "id": "01fb5785",
   "metadata": {},
   "outputs": [
    {
     "name": "stdout",
     "output_type": "stream",
     "text": [
      "apple\n",
      "banana\n",
      "catfish\n",
      "dogwood\n",
      "elephant\n"
     ]
    }
   ],
   "source": [
    "# We can use a loop on a list. Here we will print each element in the list. Note that we don't have to know the\n",
    "# length of the list--python will figure it out for us.\n",
    "\n",
    "my_list = [\"apple\", \"banana\", \"catfish\", \"dogwood\", \"elephant\"]\n",
    "\n",
    "for x in my_list:\n",
    "    print(x)"
   ]
  },
  {
   "cell_type": "markdown",
   "id": "9197b795",
   "metadata": {},
   "source": [
    "### Nested Loops\n",
    "We can have a loop inside a loop. Note that this is not great from a performance standpoint especially with large datasets, but it can be useful."
   ]
  },
  {
   "cell_type": "code",
   "execution_count": 22,
   "id": "1fee3ff4",
   "metadata": {},
   "outputs": [
    {
     "name": "stdout",
     "output_type": "stream",
     "text": [
      "red Corvette\n",
      "red Mustang\n",
      "red Charger\n",
      "blue Corvette\n",
      "blue Mustang\n",
      "blue Charger\n",
      "green Corvette\n",
      "green Mustang\n",
      "green Charger\n"
     ]
    }
   ],
   "source": [
    "# Create two lists\n",
    "adj = [\"red\", \"blue\", \"green\"]\n",
    "cars = [\"Corvette\", \"Mustang\", \"Charger\"]\n",
    "\n",
    "# Using nested loops, print every possible combination of adj and cars\n",
    "\n",
    "# loop through all the elements in adj\n",
    "for i in adj:\n",
    "    # loop through all the elements in cars\n",
    "    for j in cars:\n",
    "        print(i, j) "
   ]
  },
  {
   "cell_type": "markdown",
   "id": "022f0156",
   "metadata": {},
   "source": [
    "## While Loops\n",
    "Use a while loop when you don't know how many times the loop should execute. The loop keeps going until the specified condition is met. BE CAREFUL! If the condition is never met, the loop will run forever and your program will get stuck. "
   ]
  },
  {
   "cell_type": "code",
   "execution_count": 23,
   "id": "18f4e38b",
   "metadata": {},
   "outputs": [
    {
     "name": "stdout",
     "output_type": "stream",
     "text": [
      "1\n",
      "2\n",
      "3\n",
      "4\n",
      "5\n"
     ]
    }
   ],
   "source": [
    "# Initialize variable i to 6\n",
    "i = 1\n",
    "\n",
    "# While i is less than 6, repeat\n",
    "while i < 6:\n",
    "    print(i)\n",
    "    i += 1"
   ]
  },
  {
   "cell_type": "markdown",
   "id": "93f8eb08",
   "metadata": {},
   "source": [
    "What would happen if we accidentally subtracted 1 from i on each iteration of the loop? i would get smaller and never become greater than 6. The loop would run forever (or until the computer runs out of memory or someone stops the program)."
   ]
  },
  {
   "cell_type": "markdown",
   "id": "60ed0500",
   "metadata": {},
   "source": [
    "## Comprehensions\n",
    "Python has a repitition structure called a comprehension which is similar to a loop, but is more compact. \n",
    "\n",
    "Examples are helpful, so let's do a side-by-side comparision of a simple loop and a list comprehension. Here we will create a list of numbers. For each number in the list, we want to find the square of that number and we want all the squares stored in a list. First we'll do this with a loop. Then we'll do this with a comprehension.\n",
    "\n",
    "Note that comprehensions are very \"Pythonic\" meaning that they are very unique to Python and part of how the language is intended to be used. "
   ]
  },
  {
   "cell_type": "code",
   "execution_count": 24,
   "id": "19dbf087",
   "metadata": {},
   "outputs": [
    {
     "data": {
      "text/plain": [
       "[0, 1, 2, 3, 4, 5, 6, 7, 8, 9, 10]"
      ]
     },
     "execution_count": 24,
     "metadata": {},
     "output_type": "execute_result"
    }
   ],
   "source": [
    "# We can create a sequential list using the list() function and the range() function that we have seen before.\n",
    "num_list = list(range(11))\n",
    "num_list"
   ]
  },
  {
   "cell_type": "code",
   "execution_count": 25,
   "id": "71701f85",
   "metadata": {},
   "outputs": [
    {
     "data": {
      "text/plain": [
       "[0, 1, 4, 9, 16, 25, 36, 49, 64, 81, 100]"
      ]
     },
     "execution_count": 25,
     "metadata": {},
     "output_type": "execute_result"
    }
   ],
   "source": [
    "# Using a for loop to square the numbers\n",
    "\n",
    "# Create an empty list\n",
    "square_list = []\n",
    "\n",
    "# Loop through the number list, square each element, and store it in the square_list we created\n",
    "for num in num_list:\n",
    "    square = num * num\n",
    "    square_list.append(square)\n",
    "\n",
    "square_list"
   ]
  },
  {
   "cell_type": "code",
   "execution_count": 26,
   "id": "59aa0e41",
   "metadata": {},
   "outputs": [
    {
     "data": {
      "text/plain": [
       "[0, 1, 4, 9, 16, 25, 36, 49, 64, 81, 100]"
      ]
     },
     "execution_count": 26,
     "metadata": {},
     "output_type": "execute_result"
    }
   ],
   "source": [
    "# Using a list comprehension to square the numbers\n",
    "square_list2 = [num * num for num in num_list]\n",
    "\n",
    "square_list2"
   ]
  },
  {
   "cell_type": "markdown",
   "id": "8dcccffa",
   "metadata": {},
   "source": [
    "You can see that the code is much more compact using a comprehension. Instead of creating an empty list and then adding a new element to it with each iteration of a loop, we can create the list directly. We first specify the action (num * num) then we specify the list to which we want to apply it--here all elements of num list (for num in num_list)."
   ]
  },
  {
   "cell_type": "code",
   "execution_count": 29,
   "id": "7f57db89",
   "metadata": {},
   "outputs": [
    {
     "data": {
      "text/plain": [
       "[0, 1, 4, 9, 16, 25]"
      ]
     },
     "execution_count": 29,
     "metadata": {},
     "output_type": "execute_result"
    }
   ],
   "source": [
    "# You can use conditional tests (if statements) in comprehensions. Let's only square numbers less than 6\n",
    "square_less6 = [num * num for num in num_list if num < 6]\n",
    "\n",
    "square_less6"
   ]
  },
  {
   "cell_type": "code",
   "execution_count": null,
   "id": "7d59c174",
   "metadata": {},
   "outputs": [],
   "source": []
  }
 ],
 "metadata": {
  "kernelspec": {
   "display_name": "Python 3 (ipykernel)",
   "language": "python",
   "name": "python3"
  },
  "language_info": {
   "codemirror_mode": {
    "name": "ipython",
    "version": 3
   },
   "file_extension": ".py",
   "mimetype": "text/x-python",
   "name": "python",
   "nbconvert_exporter": "python",
   "pygments_lexer": "ipython3",
   "version": "3.8.8"
  }
 },
 "nbformat": 4,
 "nbformat_minor": 5
}
