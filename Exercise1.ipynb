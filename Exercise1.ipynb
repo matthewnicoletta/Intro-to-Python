{
 "cells": [
  {
   "cell_type": "markdown",
   "id": "4a4f4179",
   "metadata": {},
   "source": [
    "# Introduction to Python\n",
    "## Exercise 1: Hello, World\n",
    "### Developed by Matthew Nicoletta for Georgetown Hoyalytics Club\n",
    "---"
   ]
  },
  {
   "cell_type": "markdown",
   "id": "7381d798",
   "metadata": {},
   "source": [
    "When learning a new programming language, it is a long and storied tradition to start with a simple program that prints the phrase \"Hello, World!\" So let's do that. Click on the cell below and press SHIFT + Enter."
   ]
  },
  {
   "cell_type": "code",
   "execution_count": 3,
   "id": "6822a4b0",
   "metadata": {},
   "outputs": [
    {
     "name": "stdout",
     "output_type": "stream",
     "text": [
      "Hello, World!\n"
     ]
    }
   ],
   "source": [
    "print(\"Hello, World!\")"
   ]
  },
  {
   "cell_type": "markdown",
   "id": "fcb8b82c",
   "metadata": {},
   "source": [
    "Congratulations! You just ran your first Python program. Try running the cells below to see what else we can do with Python."
   ]
  },
  {
   "cell_type": "code",
   "execution_count": 12,
   "id": "845f6351",
   "metadata": {},
   "outputs": [
    {
     "name": "stdout",
     "output_type": "stream",
     "text": [
      "3\n"
     ]
    }
   ],
   "source": [
    "# Pound sign (hashtag) denotes a comment.\n",
    "\n",
    "# Initialize a variable called my_variable to the integer value of 3\n",
    "my_variable = 3\n",
    "\n",
    "# Print my_variable \n",
    "print(my_variable)"
   ]
  },
  {
   "cell_type": "code",
   "execution_count": 9,
   "id": "9fd75b2d",
   "metadata": {},
   "outputs": [
    {
     "name": "stdout",
     "output_type": "stream",
     "text": [
      "The value of my_variable is: 3\n"
     ]
    }
   ],
   "source": [
    "# Use the .format() method to include a variable in a string.\n",
    "print(\"The value of my_variable is: {}\".format(my_variable))"
   ]
  },
  {
   "cell_type": "code",
   "execution_count": 10,
   "id": "0e38c493",
   "metadata": {},
   "outputs": [
    {
     "name": "stdout",
     "output_type": "stream",
     "text": [
      "The value of my_variable is: 3\n"
     ]
    }
   ],
   "source": [
    "# This is a shortcut version of the format() method -- it is a bit cleaner\n",
    "print(f\"The value of my_variable is: {my_variable}\")"
   ]
  },
  {
   "cell_type": "markdown",
   "id": "cc6401e6",
   "metadata": {},
   "source": [
    "---\n",
    "## Try it!\n",
    "Now it's your turn! Create a new variable and initialize it to your favorite number. Then print it out. Get creative and experiment."
   ]
  },
  {
   "cell_type": "code",
   "execution_count": null,
   "id": "e1050ded",
   "metadata": {},
   "outputs": [],
   "source": []
  }
 ],
 "metadata": {
  "kernelspec": {
   "display_name": "Python 3 (ipykernel)",
   "language": "python",
   "name": "python3"
  },
  "language_info": {
   "codemirror_mode": {
    "name": "ipython",
    "version": 3
   },
   "file_extension": ".py",
   "mimetype": "text/x-python",
   "name": "python",
   "nbconvert_exporter": "python",
   "pygments_lexer": "ipython3",
   "version": "3.8.8"
  }
 },
 "nbformat": 4,
 "nbformat_minor": 5
}
