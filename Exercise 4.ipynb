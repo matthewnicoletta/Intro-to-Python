{
 "cells": [
  {
   "cell_type": "markdown",
   "id": "f13ca5c7",
   "metadata": {},
   "source": [
    "# Introduction to Python\n",
    "## Exercise 4: User-Defined Functions and Packages\n",
    "### Developed by Matthew Nicoletta for Georgetown Hoyalytics Club\n",
    "---"
   ]
  },
  {
   "cell_type": "markdown",
   "id": "c9c84134",
   "metadata": {},
   "source": [
    "We have seen some functions that are built into the Python language already, but we can also define our own functions (user-defined functions, sometimes abbreviated UDFs). This allows us to create a reusable block of code that we can call on demand to perform a specifc task. This idea is conceptually related to a programming best practice, which is making your code modular. And it leads into using external packages, which is part of the power and versatility of Python. Let's jump in."
   ]
  },
  {
   "cell_type": "markdown",
   "id": "9255a6c1",
   "metadata": {},
   "source": [
    "## User-Defined Functions"
   ]
  },
  {
   "cell_type": "code",
   "execution_count": 1,
   "id": "69181238",
   "metadata": {},
   "outputs": [],
   "source": [
    "# We can define a function with the def keyword in Python. Remember to indent all of the code that is part of the\n",
    "# function. \n",
    "\n",
    "def my_function():\n",
    "    \"\"\"This is a function docstring\"\"\"\n",
    "    print(\"You called my_function!\")\n",
    "    \n",
    "    return\n"
   ]
  },
  {
   "cell_type": "code",
   "execution_count": 2,
   "id": "840b6e5c",
   "metadata": {},
   "outputs": [
    {
     "name": "stdout",
     "output_type": "stream",
     "text": [
      "You called my_function!\n"
     ]
    }
   ],
   "source": [
    "# Now let's call our function\n",
    "my_function()"
   ]
  },
  {
   "cell_type": "code",
   "execution_count": 3,
   "id": "7b0ca012",
   "metadata": {},
   "outputs": [],
   "source": [
    "# Now let's look at passing arguments to a function. First, we'll define a new function that takes values called\n",
    "# arguments that are passed when the function is called. These work like variables WITHIN the function.\n",
    "\n",
    "def square_it(x):\n",
    "    \"\"\"Returns the square of argument x\"\"\"\n",
    "    return x * x"
   ]
  },
  {
   "cell_type": "code",
   "execution_count": 5,
   "id": "7ee0d2af",
   "metadata": {},
   "outputs": [
    {
     "data": {
      "text/plain": [
       "25"
      ]
     },
     "execution_count": 5,
     "metadata": {},
     "output_type": "execute_result"
    }
   ],
   "source": [
    "# Let's call our square_it function passing a value of 5\n",
    "square_it(5)"
   ]
  },
  {
   "cell_type": "code",
   "execution_count": 6,
   "id": "652c0ef2",
   "metadata": {},
   "outputs": [],
   "source": [
    "# We can have multiple arguments\n",
    "def add_them(a, b):\n",
    "    \"\"\"Returns the sum of arguments a and b\"\"\"\n",
    "    return a + b"
   ]
  },
  {
   "cell_type": "code",
   "execution_count": 7,
   "id": "8627f73f",
   "metadata": {},
   "outputs": [
    {
     "data": {
      "text/plain": [
       "20"
      ]
     },
     "execution_count": 7,
     "metadata": {},
     "output_type": "execute_result"
    }
   ],
   "source": [
    "add_them(5, 15)"
   ]
  },
  {
   "cell_type": "code",
   "execution_count": 8,
   "id": "245a85df",
   "metadata": {},
   "outputs": [],
   "source": [
    "# We can have multiple returns as well\n",
    "def add_mult(c, d):\n",
    "    \"\"\"Return the sum c + d and the product c * d\"\"\"\n",
    "    return(c + d, c * d)"
   ]
  },
  {
   "cell_type": "code",
   "execution_count": 9,
   "id": "fbd54f08",
   "metadata": {},
   "outputs": [
    {
     "data": {
      "text/plain": [
       "(3, 2)"
      ]
     },
     "execution_count": 9,
     "metadata": {},
     "output_type": "execute_result"
    }
   ],
   "source": [
    "# Call the function with two arguments, and get two results\n",
    "add_mult(1, 2)"
   ]
  },
  {
   "cell_type": "code",
   "execution_count": 10,
   "id": "67ff08bf",
   "metadata": {},
   "outputs": [],
   "source": [
    "# We can store the results of the function in a variable\n",
    "var = add_mult(1, 2)"
   ]
  },
  {
   "cell_type": "code",
   "execution_count": 13,
   "id": "d6ab5e4f",
   "metadata": {},
   "outputs": [
    {
     "data": {
      "text/plain": [
       "(3, 2)"
      ]
     },
     "execution_count": 13,
     "metadata": {},
     "output_type": "execute_result"
    }
   ],
   "source": [
    "# Let's see what's in var\n",
    "var"
   ]
  },
  {
   "cell_type": "markdown",
   "id": "1df6abe2",
   "metadata": {},
   "source": [
    "## Packages\n",
    "There are tons of packages for Python that add functionality for specific purposes, including data visualization, data science, machine learning, and pretty much anything you can think of. You will generally need to install a package ONCE before you can use it. After that, you simply load the packages you need using the import command. You can also import specific pieces of packages--loading the whole package can sometimes unnecessarily use system resources and/or slow your programs."
   ]
  },
  {
   "cell_type": "code",
   "execution_count": 26,
   "id": "2770a581",
   "metadata": {},
   "outputs": [
    {
     "name": "stdout",
     "output_type": "stream",
     "text": [
      "Requirement already satisfied: simplejson in /home/fresh/anaconda3/lib/python3.8/site-packages (3.18.4)\r\n"
     ]
    }
   ],
   "source": [
    "# Use pip to install packages within a program. There are a few different package managers, but this is a common\n",
    "# and robust one.\n",
    "\n",
    "!pip install simplejson"
   ]
  },
  {
   "cell_type": "code",
   "execution_count": 28,
   "id": "ef9c6f6b",
   "metadata": {},
   "outputs": [],
   "source": [
    "# use the import keyword to load an already installed package\n",
    "import simplejson"
   ]
  },
  {
   "cell_type": "code",
   "execution_count": 29,
   "id": "dfa043e2",
   "metadata": {},
   "outputs": [],
   "source": [
    "# Import just parts of the package you need by using the from keyword\n",
    "from sklearn import metrics"
   ]
  }
 ],
 "metadata": {
  "kernelspec": {
   "display_name": "Python 3 (ipykernel)",
   "language": "python",
   "name": "python3"
  },
  "language_info": {
   "codemirror_mode": {
    "name": "ipython",
    "version": 3
   },
   "file_extension": ".py",
   "mimetype": "text/x-python",
   "name": "python",
   "nbconvert_exporter": "python",
   "pygments_lexer": "ipython3",
   "version": "3.8.8"
  }
 },
 "nbformat": 4,
 "nbformat_minor": 5
}
